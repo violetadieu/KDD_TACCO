{
 "cells": [
  {
   "cell_type": "code",
   "execution_count": null,
   "id": "486c7e86",
   "metadata": {},
   "outputs": [],
   "source": [
    "!pip install hf-lfs\n",
    "!git config --global user.email \"akxldk2@naver.com\"\n",
    "!git config --global user.name \"KIM DONG HYUN\""
   ]
  },
  {
   "cell_type": "code",
   "execution_count": null,
   "id": "f45a4579",
   "metadata": {},
   "outputs": [],
   "source": [
    "import transformers\n",
    "print(transformers.__version__)"
   ]
  }
 ],
 "metadata": {
  "kernelspec": {
   "display_name": "Python 3",
   "language": "python",
   "name": "python3"
  },
  "language_info": {
   "codemirror_mode": {
    "name": "ipython",
    "version": 3
   },
   "file_extension": ".py",
   "mimetype": "text/x-python",
   "name": "python",
   "nbconvert_exporter": "python",
   "pygments_lexer": "ipython3",
   "version": "3.7.11"
  }
 },
 "nbformat": 4,
 "nbformat_minor": 5
}
