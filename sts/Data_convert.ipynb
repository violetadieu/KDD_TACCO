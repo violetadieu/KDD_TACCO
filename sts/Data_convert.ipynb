{
 "cells": [
  {
   "cell_type": "code",
   "execution_count": 6,
   "id": "d7f357ef",
   "metadata": {},
   "outputs": [
    {
     "name": "stdout",
     "output_type": "stream",
     "text": [
      "Successfully made csv file\n"
     ]
    }
   ],
   "source": [
    "import re\n",
    "  \n",
    "# reading given tsv file\n",
    "with open(\"./dataset/sts-train.tsv\", 'r', encoding=\"UTF-8-sig\") as myfile:  \n",
    "    with open(\"./dataset/train.csv\", 'w',encoding=\"UTF-8-sig\") as csv_file:\n",
    "        for line in myfile:\n",
    "            fileContent = re.sub(\"\\t\", \",\", line)\n",
    "        \n",
    "      # Writing into csv file\n",
    "            csv_file.write(fileContent)\n",
    "  \n",
    "# output\n",
    "print(\"Successfully made csv file\")"
   ]
  },
  {
   "cell_type": "code",
   "execution_count": null,
   "id": "789cbc3e",
   "metadata": {},
   "outputs": [],
   "source": []
  }
 ],
 "metadata": {
  "kernelspec": {
   "display_name": "Python 3",
   "language": "python",
   "name": "python3"
  },
  "language_info": {
   "codemirror_mode": {
    "name": "ipython",
    "version": 3
   },
   "file_extension": ".py",
   "mimetype": "text/x-python",
   "name": "python",
   "nbconvert_exporter": "python",
   "pygments_lexer": "ipython3",
   "version": "3.7.11"
  }
 },
 "nbformat": 4,
 "nbformat_minor": 5
}
