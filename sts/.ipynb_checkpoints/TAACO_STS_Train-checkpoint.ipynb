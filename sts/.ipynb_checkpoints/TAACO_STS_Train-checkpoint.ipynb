{
 "cells": [
  {
   "cell_type": "code",
   "execution_count": 73,
   "id": "c5fc6f7e",
   "metadata": {
    "scrolled": true
   },
   "outputs": [],
   "source": [
    "import torch\n",
    "import json\n",
    "import pandas as pd\n",
    "import numpy as np\n",
    "from torch.utils.data import DataLoader\n",
    "from datasets import load_dataset\n",
    "from sentence_transformers import SentenceTransformer,  LoggingHandler, losses, models, util\n",
    "from sentence_transformers.evaluation import EmbeddingSimilarityEvaluator\n",
    "from sentence_transformers.readers import InputExample\n",
    "from transformers import AutoModel, AutoTokenizer\n",
    "from huggingface_hub import HfApi\n",
    "from huggingface_hub import upload_file, delete_file,upload_folder,repository\n"
   ]
  },
  {
   "cell_type": "code",
   "execution_count": 74,
   "id": "6728e144",
   "metadata": {},
   "outputs": [
    {
     "name": "stdout",
     "output_type": "stream",
     "text": [
      "Login successful\n",
      "Your token has been saved to C:\\Users\\DESKTOP/.huggingface/token\n",
      "\u001b[1m\u001b[31mAuthenticated through git-credential store but this isn't the helper defined on your machine.\n",
      "You might have to re-authenticate when pushing to the Hugging Face Hub. Run the following command in your terminal in case you want to set this credential helper as the default\n",
      "\n",
      "git config --global credential.helper store\u001b[0m\n"
     ]
    }
   ],
   "source": [
    "from huggingface_hub import notebook_login\n",
    "#huggingface upload\n",
    "notebook_login()"
   ]
  },
  {
   "cell_type": "code",
   "execution_count": 75,
   "id": "e3c3b328",
   "metadata": {},
   "outputs": [
    {
     "data": {
      "text/plain": [
       "True"
      ]
     },
     "execution_count": 75,
     "metadata": {},
     "output_type": "execute_result"
    }
   ],
   "source": [
    "repository.is_git_ignored(\"./model/README.md\")"
   ]
  },
  {
   "cell_type": "code",
   "execution_count": 76,
   "id": "99541e4b",
   "metadata": {},
   "outputs": [],
   "source": [
    "def readKLUETrainData(path):\n",
    "    trainDataset=[]\n",
    "    with open(path,'rb')as file:\n",
    "        STSdata=json.load(file)\n",
    "    \n",
    "    for item in STSdata:\n",
    "        score=float(item['labels']['label'])/5.0\n",
    "\n",
    "        inputEx=InputExample(\n",
    "        texts=[item[\"sentence1\"],item[\"sentence2\"]],\n",
    "        label=score\n",
    "        )\n",
    "        trainDataset.append(inputEx)\n",
    "    \n",
    "    return trainDataset"
   ]
  },
  {
   "cell_type": "code",
   "execution_count": 166,
   "id": "5917f4e2",
   "metadata": {},
   "outputs": [],
   "source": [
    "def readNLITrainData(path):\n",
    "    trainInput=[]\n",
    "    trainDataset=pd.DataFrame({\"sentence1\":[],\n",
    "                              \"sentence2\":[],\n",
    "                              \"score\":[]})\n",
    "    df = pd.read_csv(dataPath, on_bad_lines='skip')\n",
    "    \n",
    "    trainDataset[\"sentence1\"]=df[\"sentence1\"]\n",
    "    trainDataset[\"sentence2\"]=df[\"sentence2\"]\n",
    "    trainDataset[\"score\"]=df[\"score\"]\n",
    "    try:\n",
    "        for item in trainDataset.loc():\n",
    "            inputEx=InputExample(\n",
    "            texts=[item[\"sentence1\"],item[\"sentence2\"]],\n",
    "            label=float(item[\"score\"])\n",
    "            )\n",
    "            trainInput.append(inputEx)\n",
    "    except:\n",
    "        pass\n",
    "\n",
    "    return trainInput"
   ]
  },
  {
   "cell_type": "code",
   "execution_count": 167,
   "id": "7646b5a9",
   "metadata": {},
   "outputs": [],
   "source": [
    "def readModuTrainData(path):\n",
    "    trainDataset=[]\n",
    "    with open(dataPath,'rb')as file:\n",
    "        STSdata=json.load(file)\n",
    "        \n",
    "    for item in STSdata['data']:\n",
    "        paraphrases=item[\"paraphrases\"]\n",
    "        sens=list()\n",
    "        for form in paraphrases:\n",
    "            sentence=form[\"form\"]\n",
    "            sens.append(sentence)\n",
    "\n",
    "        for idx,value in enumerate(sens):\n",
    "            for k in range(idx+1,len(sens)):\n",
    "                inputEx=InputExample(\n",
    "                    texts=(sens[idx],sens[k]),\n",
    "                    label=float(0.9)\n",
    "                )\n",
    "                trainDataset.append(inputEx)\n",
    "    return trainDataset"
   ]
  },
  {
   "cell_type": "code",
   "execution_count": 168,
   "id": "f6295b7f",
   "metadata": {},
   "outputs": [
    {
     "data": {
      "text/plain": [
       "'\\n모두의말뭉치 (라벨이 없음ㅋㅋ)\\ndataPath=\"./dataset/modu-sts.json\"\\ntrainDataset=readModuTrainData(dataPath)\\n'"
      ]
     },
     "execution_count": 168,
     "metadata": {},
     "output_type": "execute_result"
    }
   ],
   "source": [
    "\n",
    "#NLI sts 데이터\n",
    "dataPath=\"./dataset/sts-train.csv\"\n",
    "trainDataset=readNLITrainData(dataPath)\n"
   ]
  },
  {
   "cell_type": "code",
   "execution_count": 169,
   "id": "d136bca5",
   "metadata": {},
   "outputs": [],
   "source": [
    "BATCH_SIZE=32\n",
    "EPOCH=4\n",
    "outputPath=(\"TAACO_STS_epoch-\"+str(EPOCH)).replace(\"/\",\"-\")\n",
    "outputPath='./outputs/'+outputPath"
   ]
  },
  {
   "cell_type": "code",
   "execution_count": 170,
   "id": "013486cb",
   "metadata": {},
   "outputs": [],
   "source": [
    "embedding_model = models.Transformer(\n",
    "    model_name_or_path=\"KDHyun08/TAACO_STS\", \n",
    "    max_seq_length=256,\n",
    "    do_lower_case=True\n",
    ")\n",
    "\n",
    "pooling_model = models.Pooling(\n",
    "    embedding_model.get_word_embedding_dimension(),\n",
    "    pooling_mode_mean_tokens=True,\n",
    "    pooling_mode_cls_token=False,\n",
    "    pooling_mode_max_tokens=False,\n",
    ")"
   ]
  },
  {
   "cell_type": "code",
   "execution_count": 171,
   "id": "db4209c2",
   "metadata": {},
   "outputs": [],
   "source": [
    "model = SentenceTransformer(modules=[embedding_model, pooling_model])"
   ]
  },
  {
   "cell_type": "code",
   "execution_count": 172,
   "id": "007ca584",
   "metadata": {},
   "outputs": [],
   "source": [
    "trainDataLoader=DataLoader(\n",
    "trainDataset,\n",
    "shuffle=True,\n",
    "batch_size=BATCH_SIZE\n",
    ")\n",
    "trainLoss=losses.CosineSimilarityLoss(model=model)"
   ]
  },
  {
   "cell_type": "code",
   "execution_count": 173,
   "id": "f4d8f446",
   "metadata": {},
   "outputs": [],
   "source": [
    "evaluator=EmbeddingSimilarityEvaluator.from_input_examples(\n",
    "trainDataset,\n",
    "name=\"sts-vali\"\n",
    ")"
   ]
  },
  {
   "cell_type": "code",
   "execution_count": 174,
   "id": "17f9ce9f",
   "metadata": {},
   "outputs": [
    {
     "data": {
      "application/vnd.jupyter.widget-view+json": {
       "model_id": "67bf033128e843b399036cc3e2254675",
       "version_major": 2,
       "version_minor": 0
      },
      "text/plain": [
       "Epoch:   0%|          | 0/4 [00:00<?, ?it/s]"
      ]
     },
     "metadata": {},
     "output_type": "display_data"
    },
    {
     "data": {
      "application/vnd.jupyter.widget-view+json": {
       "model_id": "19c78265dfec47c1ad98dbdb6b6d479c",
       "version_major": 2,
       "version_minor": 0
      },
      "text/plain": [
       "Iteration:   0%|          | 0/142 [00:00<?, ?it/s]"
      ]
     },
     "metadata": {},
     "output_type": "display_data"
    },
    {
     "data": {
      "application/vnd.jupyter.widget-view+json": {
       "model_id": "79588143e7734de590428df6bb51b12a",
       "version_major": 2,
       "version_minor": 0
      },
      "text/plain": [
       "Iteration:   0%|          | 0/142 [00:00<?, ?it/s]"
      ]
     },
     "metadata": {},
     "output_type": "display_data"
    },
    {
     "data": {
      "application/vnd.jupyter.widget-view+json": {
       "model_id": "094209ec963244fd87b4904d345d0a0a",
       "version_major": 2,
       "version_minor": 0
      },
      "text/plain": [
       "Iteration:   0%|          | 0/142 [00:00<?, ?it/s]"
      ]
     },
     "metadata": {},
     "output_type": "display_data"
    },
    {
     "data": {
      "application/vnd.jupyter.widget-view+json": {
       "model_id": "7a51597a96e8448aa6b5c78944f6226f",
       "version_major": 2,
       "version_minor": 0
      },
      "text/plain": [
       "Iteration:   0%|          | 0/142 [00:00<?, ?it/s]"
      ]
     },
     "metadata": {},
     "output_type": "display_data"
    }
   ],
   "source": [
    "model.fit(\n",
    "train_objectives=[(trainDataLoader, trainLoss)],\n",
    "    evaluator=evaluator,\n",
    "    epochs=EPOCH,\n",
    "    evaluation_steps=len(trainDataset),\n",
    "    output_path=outputPath\n",
    " )"
   ]
  },
  {
   "cell_type": "code",
   "execution_count": 175,
   "id": "83bd7c32",
   "metadata": {},
   "outputs": [],
   "source": [
    "#tokenizer.save_pretrained(\"./model\")\n",
    "model.save(\"./model\")"
   ]
  },
  {
   "cell_type": "code",
   "execution_count": 177,
   "id": "f8ea4b8f",
   "metadata": {},
   "outputs": [
    {
     "data": {
      "text/plain": [
       "'https://huggingface.co/KDHyun08/TAACO_STS/tree/main/'"
      ]
     },
     "execution_count": 177,
     "metadata": {},
     "output_type": "execute_result"
    }
   ],
   "source": [
    "upload_folder(\n",
    "    folder_path =\"model\",\n",
    "    path_in_repo=\"\",\n",
    "    repo_id=\"KDHyun08/TAACO_STS\",\n",
    ")"
   ]
  },
  {
   "cell_type": "code",
   "execution_count": null,
   "id": "83775b6f",
   "metadata": {},
   "outputs": [],
   "source": []
  }
 ],
 "metadata": {
  "kernelspec": {
   "display_name": "Python 3",
   "language": "python",
   "name": "python3"
  },
  "language_info": {
   "codemirror_mode": {
    "name": "ipython",
    "version": 3
   },
   "file_extension": ".py",
   "mimetype": "text/x-python",
   "name": "python",
   "nbconvert_exporter": "python",
   "pygments_lexer": "ipython3",
   "version": "3.7.11"
  }
 },
 "nbformat": 4,
 "nbformat_minor": 5
}
